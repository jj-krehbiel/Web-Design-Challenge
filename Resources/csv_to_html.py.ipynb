{
 "cells": [
  {
   "cell_type": "code",
   "execution_count": 1,
   "id": "surrounded-brook",
   "metadata": {},
   "outputs": [],
   "source": [
    "import pandas as pd"
   ]
  },
  {
   "cell_type": "code",
   "execution_count": 7,
   "id": "virgin-overall",
   "metadata": {},
   "outputs": [],
   "source": [
    "# Read in csv\n",
    "a=pd.read_csv(\"city_data.csv\")\n",
    "del a['ID']"
   ]
  },
  {
   "cell_type": "code",
   "execution_count": 8,
   "id": "brief-hearts",
   "metadata": {},
   "outputs": [],
   "source": [
    "a.to_html(\"../Assets/output2.html\")"
   ]
  },
  {
   "cell_type": "code",
   "execution_count": null,
   "id": "aboriginal-armstrong",
   "metadata": {},
   "outputs": [],
   "source": []
  }
 ],
 "metadata": {
  "kernelspec": {
   "display_name": "Python 3",
   "language": "python",
   "name": "python3"
  },
  "language_info": {
   "codemirror_mode": {
    "name": "ipython",
    "version": 3
   },
   "file_extension": ".py",
   "mimetype": "text/x-python",
   "name": "python",
   "nbconvert_exporter": "python",
   "pygments_lexer": "ipython3",
   "version": "3.9.1"
  }
 },
 "nbformat": 4,
 "nbformat_minor": 5
}
